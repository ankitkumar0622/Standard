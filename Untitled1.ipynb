{
 "cells": [
  {
   "cell_type": "code",
   "execution_count": 4,
   "id": "3f2a1a3d",
   "metadata": {},
   "outputs": [
    {
     "ename": "NameError",
     "evalue": "name '__file__' is not defined",
     "output_type": "error",
     "traceback": [
      "\u001b[0;31m---------------------------------------------------------------------------\u001b[0m",
      "\u001b[0;31mNameError\u001b[0m                                 Traceback (most recent call last)",
      "\u001b[0;32m/var/folders/zp/hzhvt1q56ys5npdwx06q0wyw0000gn/T/ipykernel_9011/1099125066.py\u001b[0m in \u001b[0;36m<module>\u001b[0;34m\u001b[0m\n\u001b[1;32m     15\u001b[0m \u001b[0;34m\u001b[0m\u001b[0m\n\u001b[1;32m     16\u001b[0m \u001b[0;31m# Get the script directory\u001b[0m\u001b[0;34m\u001b[0m\u001b[0;34m\u001b[0m\u001b[0m\n\u001b[0;32m---> 17\u001b[0;31m \u001b[0mos\u001b[0m\u001b[0;34m.\u001b[0m\u001b[0mpath\u001b[0m\u001b[0;34m.\u001b[0m\u001b[0mjoin\u001b[0m\u001b[0;34m(\u001b[0m\u001b[0mos\u001b[0m\u001b[0;34m.\u001b[0m\u001b[0mpath\u001b[0m\u001b[0;34m.\u001b[0m\u001b[0mdirname\u001b[0m\u001b[0;34m(\u001b[0m\u001b[0m__file__\u001b[0m\u001b[0;34m)\u001b[0m\u001b[0;34m)\u001b[0m\u001b[0;34m\u001b[0m\u001b[0;34m\u001b[0m\u001b[0m\n\u001b[0m\u001b[1;32m     18\u001b[0m \u001b[0mscript_dir\u001b[0m \u001b[0;34m=\u001b[0m \u001b[0mos\u001b[0m\u001b[0;34m.\u001b[0m\u001b[0mpath\u001b[0m\u001b[0;34m.\u001b[0m\u001b[0mdirname\u001b[0m\u001b[0;34m(\u001b[0m\u001b[0mos\u001b[0m\u001b[0;34m.\u001b[0m\u001b[0mpath\u001b[0m\u001b[0;34m.\u001b[0m\u001b[0mrealpath\u001b[0m\u001b[0;34m(\u001b[0m\u001b[0m__file__\u001b[0m\u001b[0;34m)\u001b[0m\u001b[0;34m)\u001b[0m\u001b[0;34m\u001b[0m\u001b[0;34m\u001b[0m\u001b[0m\n\u001b[1;32m     19\u001b[0m \u001b[0;34m\u001b[0m\u001b[0m\n",
      "\u001b[0;31mNameError\u001b[0m: name '__file__' is not defined"
     ]
    }
   ],
   "source": [
    "import cv2\n",
    "from ultralytics import YOLO\n",
    "import os\n",
    "from PIL import Image\n",
    "import io\n",
    "import base64\n",
    "\n",
    "# Load the YOLOv8 model\n",
    "model = YOLO(r\"yolov8n-face.pt\")\n",
    "\n",
    "\n",
    "# Open the video file\n",
    "cap = cv2.VideoCapture(0)\n",
    "f = 0\n",
    "\n",
    "# Get the script directory\n",
    "os.path.join(os.path.dirname(__file__))\n",
    "script_dir = os.path.dirname(os.path.realpath(__file__))\n",
    "\n",
    "# Loop through the video frames\n",
    "while cap.isOpened():\n",
    "    success, frame = cap.read()\n",
    "    f =1  # Increment frame count for filename\n",
    "\n",
    "    if success:\n",
    "        # Run YOLOv8 tracking on the frame, persisting tracks between frames\n",
    "        results = model.track(frame, conf=0.70, persist=True)\n",
    "\n",
    "        coord_list = results[0].boxes.data.tolist()\n",
    "\n",
    "        try:\n",
    "            x1 = int(coord_list[0][0])\n",
    "            y1 = int(coord_list[0][1])\n",
    "            x2 = int(coord_list[0][2])\n",
    "            y2 = int(coord_list[0][3])\n",
    "            id = coord_list[0][4]\n",
    "            confid = coord_list[0][5]\n",
    "            print(\"---------\", y1, y2, x1, x2, \"---------\")\n",
    "            cord = (x1, y1, x2, y2)\n",
    "            roi = frame[y1:y2, x1:x2]\n",
    "\n",
    "            # Create image filename with frame number\n",
    "            filename = f\"img{f}.jpg\"\n",
    "\n",
    "            # Save the ROI image as JPG (for potential later use)\n",
    "            cv2.imwrite(os.path.join(script_dir, filename), roi)\n",
    "\n",
    "            # Encode the ROI image as Base64\n",
    "            buffered = io.BytesIO()\n",
    "            pil_image = Image.fromarray(roi)  # Convert OpenCV image to PIL image\n",
    "            pil_image.save(buffered, format=\"JPEG\")  # Save PIL image to memory buffer\n",
    "            encoded_string = base64.b64encode(buffered.getvalue()).decode(\"utf-8\")\n",
    "\n",
    "            # Save the encoded string to a TXT file\n",
    "            with open(os.path.join(script_dir, f\"encoded_{f}.txt\"), \"w\") as text_file:\n",
    "                text_file.write(encoded_string)\n",
    "\n",
    "        except IndexError:  # Handle cases where no face is detected\n",
    "            pass\n",
    "\n",
    "        annotated_frame = results[0].plot()\n",
    "        cv2.imshow(\"YOLOv8 Tracking\", annotated_frame)\n",
    "\n",
    "        # Check for termination key press (Shift+W)\n",
    "        key = cv2.waitKey(1) & 0xFF\n",
    "        if key == ord(\"w\") and cv2.waitKey(0) == ord(\"shift\"):\n",
    "            break\n",
    "\n",
    "    else:\n",
    "        # Break the loop if video capture fails\n",
    "        break\n",
    "\n",
    "# Release resources\n",
    "cap.release()\n",
    "cv2.destroyAllWindows()\n"
   ]
  },
  {
   "cell_type": "code",
   "execution_count": 6,
   "id": "a7847f4b",
   "metadata": {},
   "outputs": [
    {
     "name": "stdout",
     "output_type": "stream",
     "text": [
      "\u001b[31mERROR: Could not find a version that satisfies the requirement cv2 (from versions: none)\u001b[0m\u001b[31m\n",
      "\u001b[0m\u001b[31mERROR: No matching distribution found for cv2\u001b[0m\u001b[31m\n",
      "\u001b[0mNote: you may need to restart the kernel to use updated packages.\n"
     ]
    }
   ],
   "source": [
    "pip install cv2\n"
   ]
  },
  {
   "cell_type": "code",
   "execution_count": 7,
   "id": "3f529cc6",
   "metadata": {},
   "outputs": [
    {
     "name": "stdout",
     "output_type": "stream",
     "text": [
      "\u001b[31mERROR: Could not find a version that satisfies the requirement opencv (from versions: none)\u001b[0m\u001b[31m\n",
      "\u001b[0m\u001b[31mERROR: No matching distribution found for opencv\u001b[0m\u001b[31m\n",
      "\u001b[0mNote: you may need to restart the kernel to use updated packages.\n"
     ]
    }
   ],
   "source": [
    "pip install opencv"
   ]
  },
  {
   "cell_type": "code",
   "execution_count": null,
   "id": "5a93a271",
   "metadata": {},
   "outputs": [],
   "source": []
  }
 ],
 "metadata": {
  "kernelspec": {
   "display_name": "Python 3 (ipykernel)",
   "language": "python",
   "name": "python3"
  },
  "language_info": {
   "codemirror_mode": {
    "name": "ipython",
    "version": 3
   },
   "file_extension": ".py",
   "mimetype": "text/x-python",
   "name": "python",
   "nbconvert_exporter": "python",
   "pygments_lexer": "ipython3",
   "version": "3.9.13"
  }
 },
 "nbformat": 4,
 "nbformat_minor": 5
}
